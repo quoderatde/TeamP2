{
 "cells": [
  {
   "cell_type": "code",
   "execution_count": 18,
   "metadata": {},
   "outputs": [],
   "source": [
    "from bs4 import BeautifulSoup as bs\n",
    "from selenium import webdriver as wb\n",
    "from selenium.webdriver.common.keys import Keys\n",
    "import time\n",
    "from tqdm import tqdm_notebook\n",
    "import pandas as pd"
   ]
  },
  {
   "cell_type": "markdown",
   "metadata": {},
   "source": [
    "#### channel ID는 파일로 불러와서 대입시킬것"
   ]
  },
  {
   "cell_type": "code",
   "execution_count": 19,
   "metadata": {},
   "outputs": [],
   "source": [
    "driver = wb.Chrome()"
   ]
  },
  {
   "cell_type": "code",
   "execution_count": 28,
   "metadata": {},
   "outputs": [],
   "source": [
    "import time\n",
    "\n",
    "title_list=[]\n",
    "src_list=[]\n",
    "playtime_list=[]\n",
    "view_list=[]\n",
    "video_list=[]\n",
    "upload_time =[]\n",
    "\n",
    "channelId='UCHxKSivB6JLZ1SEMdxd1fAg'\n",
    "url = 'https://www.youtube.com/channel/'+channelId+'/videos'\n",
    "driver.get(url)\n",
    "for index in range(50):\n",
    "    body = driver.find_element_by_tag_name('body')\n",
    "    body.send_keys(Keys.PAGE_DOWN)\n",
    "    body.send_keys(Keys.PAGE_DOWN)\n",
    "    body.send_keys(Keys.PAGE_DOWN)\n",
    "    body.send_keys(Keys.PAGE_DOWN)\n",
    "    time.sleep(0.5)\n",
    "    \n",
    "soup = bs(driver.page_source, \"lxml\")\n",
    "titles = soup.find_all('h3')\n",
    "for title in titles:\n",
    "    title_list.append(title.get_text()[2:])\n",
    "imgs = soup.find_all('img')\n",
    "count_img = 1\n",
    "\n",
    "for img in imgs:\n",
    "    if(img.get(\"src\")==None):\n",
    "        break\n",
    "    if(count_img > 3):\n",
    "        img_src = img.get(\"src\")\n",
    "        src_list.append(img_src)\n",
    "    count_img+=1\n",
    "    \n",
    "play = soup.find_all('span',{'class' : 'style-scope ytd-grid-video-renderer'})\n",
    "count=0;\n",
    "for i in play:\n",
    "    if(count%2==0):\n",
    "        view_list.append(i.get_text())\n",
    "        count+=1\n",
    "    else:\n",
    "        upload_time.append(i.get_text())\n",
    "        count+=1\n",
    "time = soup.find_all('span', {'class' : 'style-scope ytd-thumbnail-overlay-time-status-renderer'})\n",
    "for i in time:\n",
    "    playtime_list.append(i.get_text())\n",
    "video_head='https://www.youtube.com'\n",
    "video = soup.select('#video-title')\n",
    "for i in video:\n",
    "    video_list.append(video_head+i.get(\"href\"))\n"
   ]
  },
  {
   "cell_type": "code",
   "execution_count": 31,
   "metadata": {
    "scrolled": true
   },
   "outputs": [
    {
     "data": {
      "text/plain": [
       "(736, 45, 733, 733, 733, 733)"
      ]
     },
     "execution_count": 31,
     "metadata": {},
     "output_type": "execute_result"
    }
   ],
   "source": [
    "len(title_list),len(src_list),len(playtime_list),len(view_list),len(video_list),len(upload_time)\n"
   ]
  },
  {
   "cell_type": "code",
   "execution_count": 144,
   "metadata": {
    "collapsed": true
   },
   "outputs": [],
   "source": [
    "dic = {'제목':title_list,'이미지경로':src_list,'재생시간':playtime_list,'조회수':view_list,'업로드시간':upload_time,'비디오주소':video_list}\n",
    "list = pd.DataFrame(dic)"
   ]
  },
  {
   "cell_type": "code",
   "execution_count": 148,
   "metadata": {
    "collapsed": true
   },
   "outputs": [],
   "source": [
    "list.to_csv(\"filename1.csv\")"
   ]
  },
  {
   "cell_type": "code",
   "execution_count": 17,
   "metadata": {
    "collapsed": true,
    "scrolled": true
   },
   "outputs": [],
   "source": [
    "for li in lis :\n",
    "    title = li.find('a', {'title' : True})['title']\n",
    "    video_link = 'https://www.youtube.com' + li.find('a', {'href' : True})['href']\n",
    "    img_link = li.find('img', {'src' : True})['src']\n",
    "    play_time = li.find('span', {'class' : 'video-time'}).text\n",
    "    hits = li.find_all('li')[2].text\n",
    "    updated_time = li.find_all('li')[3].text\n",
    "\n",
    "    print(eminem_video_info)\n",
    "       "
   ]
  },
  {
   "cell_type": "code",
   "execution_count": null,
   "metadata": {
    "collapsed": true
   },
   "outputs": [],
   "source": []
  }
 ],
 "metadata": {
  "kernelspec": {
   "display_name": "Python 3",
   "language": "python",
   "name": "python3"
  },
  "language_info": {
   "codemirror_mode": {
    "name": "ipython",
    "version": 3
   },
   "file_extension": ".py",
   "mimetype": "text/x-python",
   "name": "python",
   "nbconvert_exporter": "python",
   "pygments_lexer": "ipython3",
   "version": "3.7.3"
  }
 },
 "nbformat": 4,
 "nbformat_minor": 2
}

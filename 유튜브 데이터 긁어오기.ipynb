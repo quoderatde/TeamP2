{
 "cells": [
  {
   "cell_type": "code",
   "execution_count": 3,
   "metadata": {},
   "outputs": [],
   "source": [
    "from bs4 import BeautifulSoup as bs\n",
    "import requests\n",
    "import json"
   ]
  },
  
  {
   "cell_type": "markdown",
   "metadata": {},
   "source": [
    "### 국가랭킹 몇등"
   ]
  },
  {
   "cell_type": "code",
   "execution_count": 93,
   "metadata": {},
   "outputs": [],
   "source": [
    "channelId='UCVJT18d9wSCnDUdnJ9ycO7Q'\n",
    "url='https://kr.noxinfluencer.com/ws/star/trend/'+channelId+'?type=rank_country&dimension=sub&interval=weekly'\n",
    "headers = {'User-Agent': 'Mozilla/5.0 (Windows NT 6.1; Win64; x64) AppleWebKit/537.36 (KHTML, like Gecko) Chrome/75.0.3770.90 Safari/537.36'}\n",
    "response = requests.get(url, headers=headers)\n",
    "json_info = json.loads(response.text)\n",
    "json_info['retData']['history'][0]['date'] #날짜\n",
    "json_info['retData']['history'][0]['value'] #국가랭킹"
   ]
  },
  {
   "cell_type": "markdown",
   "metadata": {},
   "source": [
    "### 세계랭킹 몇등"
   ]
  },
  {
   "cell_type": "code",
   "execution_count": 103,
   "metadata": {},
   "outputs": [
    {
     "data": {
      "text/plain": [
       "127020"
      ]
     },
     "execution_count": 103,
     "metadata": {},
     "output_type": "execute_result"
    }
   ],
   "source": [
    "channelId='UCVJT18d9wSCnDUdnJ9ycO7Q'\n",
    "url='https://kr.noxinfluencer.com/ws/star/trend/'+channelId+'?type=rank&dimension=sub&interval=weekly'\n",
    "headers = {'User-Agent': 'Mozilla/5.0 (Windows NT 6.1; Win64; x64) AppleWebKit/537.36 (KHTML, like Gecko) Chrome/75.0.3770.90 Safari/537.36'}\n",
    "response = requests.get(url, headers=headers)\n",
    "json_info = json.loads(response.text)\n",
    "json_info['retData']['history'][0]['date'] #날짜\n",
    "json_info['retData']['history'][0]['value'] #세계랭킹"
   ]
  },
  {
   "cell_type": "markdown",
   "metadata": {},
   "source": [
    "### 채널 개요 스탯"
   ]
  },
  {
   "cell_type": "code",
   "execution_count": 104,
   "metadata": {},
   "outputs": [],
   "source": [
    "channelId='UCVJT18d9wSCnDUdnJ9ycO7Q'\n",
    "url='https://kr.noxinfluencer.com/ws/star/videoTrend/'+channelId\n",
    "headers = {'User-Agent': 'Mozilla/5.0 (Windows NT 6.1; Win64; x64) AppleWebKit/537.36 (KHTML, like Gecko) Chrome/75.0.3770.90 Safari/537.36'}\n",
    "response = requests.get(url, headers=headers)\n",
    "json_info = json.loads(response.text)\n",
    "json_info['retData']['avg_views'] #평균 조회수\n",
    "json_info['retData']['recent_likes'] #최근 30개 동영상의 평균 좋아요\n",
    "json_info['retData']['recent_dislikes'] #최근 30개 동영상의 평균 싫어요\n",
    "json_info['retData']['recent_comments'] #최근 30개 동영상의 평균 댓글 수\n",
    "json_info['retData']['avg_engagement_rate'] #구독자 참여율(구독자 수 대비 구독자들이 댓글이나 좋아요 누른 참여율)\n",
    "json_info['retData']['avg_views_rank'] #평균 뷰 랭크\n",
    "json_info['retData']['post_video_number'] #최근 1개월 업로드한 동영상 수\n",
    "json_info['retData']['avg_video_number'] #1개월 평균 올리는 동영상 수"
   ]
  },
  {
   "cell_type": "markdown",
   "metadata": {},
   "source": [
    "### 시청비율(연령,국가)"
   ]
  },
  {
   "cell_type": "code",
   "execution_count": 134,
   "metadata": {},
   "outputs": [
    {
     "data": {
      "text/plain": [
       "[['KR', 84], ['JP', 7], ['CN', 9]]"
      ]
     },
     "execution_count": 134,
     "metadata": {},
     "output_type": "execute_result"
    }
   ],
   "source": [
    "channelId='UCVJT18d9wSCnDUdnJ9ycO7Q'\n",
    "url='https://kr.noxinfluencer.com/ws/star/starViewAudience/'+channelId\n",
    "headers = {'User-Agent': 'Mozilla/5.0 (Windows NT 6.1; Win64; x64) AppleWebKit/537.36 (KHTML, like Gecko) Chrome/75.0.3770.90 Safari/537.36'}\n",
    "response = requests.get(url, headers=headers)\n",
    "json_info = json.loads(response.text)\n",
    "json_info['retData']['ageAndGenderWithViewPercent'] #연령병 시청자비율\n",
    "json_info['retData']['viewPercentWithCountry'] #국가별 시청자비율"
   ]
  },
  {
   "cell_type": "markdown",
   "metadata": {},
   "source": [
    "### 일일 구독자 히스토리(매일 얼마나 증가하는지)"
   ]
  },
  {
   "cell_type": "code",
   "execution_count": 135,
   "metadata": {},
   "outputs": [
    {
     "data": {
      "text/plain": [
       "292"
      ]
     },
     "execution_count": 135,
     "metadata": {},
     "output_type": "execute_result"
    }
   ],
   "source": [
    "channelId='UCVJT18d9wSCnDUdnJ9ycO7Q'\n",
    "url='https://kr.noxinfluencer.com/ws/star/trend/'+channelId+'?type=increase&dimension=sub&interval=daily'\n",
    "headers = {'User-Agent': 'Mozilla/5.0 (Windows NT 6.1; Win64; x64) AppleWebKit/537.36 (KHTML, like Gecko) Chrome/75.0.3770.90 Safari/537.36'}\n",
    "response = requests.get(url, headers=headers)\n",
    "json_info = json.loads(response.text)\n",
    "json_info['retData']['history'][0]['date'] #날짜\n",
    "json_info['retData']['history'][0]['value'] #구독자 증감 수"
   ]
  },
  {
   "cell_type": "markdown",
   "metadata": {},
   "source": [
    "### 일일 조회수 히스토리"
   ]
  },
  {
   "cell_type": "code",
   "execution_count": 5,
   "metadata": {},
   "outputs": [
    {
     "data": {
      "text/plain": [
       "96659"
      ]
     },
     "execution_count": 5,
     "metadata": {},
     "output_type": "execute_result"
    }
   ],
   "source": [
    "channelId='UCVJT18d9wSCnDUdnJ9ycO7Q'\n",
    "url='https://kr.noxinfluencer.com/ws/star/trend/'+channelId+'?type=increase&dimension=view&interval=daily'\n",
    "headers = {'User-Agent': 'Mozilla/5.0 (Windows NT 6.1; Win64; x64) AppleWebKit/537.36 (KHTML, like Gecko) Chrome/75.0.3770.90 Safari/537.36'}\n",
    "response = requests.get(url, headers=headers)\n",
    "json_info = json.loads(response.text)\n",
    "json_info['retData']['history'][0]['date'] #날짜\n",
    "json_info['retData']['history'][0]['value'] #값"
   ]
  },
  {
   "cell_type": "markdown",
   "metadata": {},
   "source": [
    "### 총구독자수 추이"
   ]
  },
  {
   "cell_type": "code",
   "execution_count": 7,
   "metadata": {},
   "outputs": [
    {
     "data": {
      "text/plain": [
       "53572"
      ]
     },
     "execution_count": 7,
     "metadata": {},
     "output_type": "execute_result"
    }
   ],
   "source": [
    "channelId='UCVJT18d9wSCnDUdnJ9ycO7Q'\n",
    "url='https://kr.noxinfluencer.com/ws/star/trend/'+channelId+'?type=total&dimension=sub&interval=daily'\n",
    "headers = {'User-Agent': 'Mozilla/5.0 (Windows NT 6.1; Win64; x64) AppleWebKit/537.36 (KHTML, like Gecko) Chrome/75.0.3770.90 Safari/537.36'}\n",
    "response = requests.get(url, headers=headers)\n",
    "json_info = json.loads(response.text)\n",
    "json_info['retData']['history'][0]['date'] #날짜\n",
    "json_info['retData']['history'][0]['value'] # 7일 전과 비교해서 증가하는 수가 적은지 많은지"
   ]
  },
  {
   "cell_type": "markdown",
   "metadata": {},
   "source": [
    "### 총 조회수 추이"
   ]
  },
  {
   "cell_type": "code",
   "execution_count": 22,
   "metadata": {},
   "outputs": [
    {
     "data": {
      "text/plain": [
       "19006332"
      ]
     },
     "execution_count": 22,
     "metadata": {},
     "output_type": "execute_result"
    }
   ],
   "source": [
    "channelId='UCVJT18d9wSCnDUdnJ9ycO7Q'\n",
    "url='https://kr.noxinfluencer.com/ws/star/trend/'+channelId+'?type=total&dimension=view&interval=daily'\n",
    "headers = {'User-Agent': 'Mozilla/5.0 (Windows NT 6.1; Win64; x64) AppleWebKit/537.36 (KHTML, like Gecko) Chrome/75.0.3770.90 Safari/537.36'}\n",
    "response = requests.get(url, headers=headers)\n",
    "json_info = json.loads(response.text)\n",
    "json_info['retData']['history'][0]['date'] #날짜\n",
    "json_info['retData']['history'][0]['value'] #값"
   ]
  },
  {
   "cell_type": "markdown",
   "metadata": {},
   "source": [
    "### 미래성장추이 구독자수"
   ]
  },
  {
   "cell_type": "code",
   "execution_count": 152,
   "metadata": {},
   "outputs": [],
   "source": [
    "channelId='UCVJT18d9wSCnDUdnJ9ycO7Q'\n",
    "url='https://kr.noxinfluencer.com/ws/star/trend/'+channelId+'?type=predict&dimension=sub&interval=weekly'\n",
    "headers = {'User-Agent': 'Mozilla/5.0 (Windows NT 6.1; Win64; x64) AppleWebKit/537.36 (KHTML, like Gecko) Chrome/75.0.3770.90 Safari/537.36'}\n",
    "response = requests.get(url, headers=headers)\n",
    "json_info = json.loads(response.text)\n",
    "json_info['retData']['future'][0]['date'] #날짜\n",
    "json_info['retData']['future'][0]['value'] #미래성장추이 구독자수"
   ]
  },
  {
   "cell_type": "markdown",
   "metadata": {},
   "source": [
    "### 미래성장추이 조회수"
   ]
  },
  {
   "cell_type": "code",
   "execution_count": 8,
   "metadata": {},
   "outputs": [
    {
     "data": {
      "text/plain": [
       "70918652"
      ]
     },
     "execution_count": 8,
     "metadata": {},
     "output_type": "execute_result"
    }
   ],
   "source": [
    "channelId='UCVJT18d9wSCnDUdnJ9ycO7Q'\n",
    "url='https://kr.noxinfluencer.com/ws/star/trend/'+channelId+'?type=predict&dimension=view&interval=weekly'\n",
    "headers = {'User-Agent': 'Mozilla/5.0 (Windows NT 6.1; Win64; x64) AppleWebKit/537.36 (KHTML, like Gecko) Chrome/75.0.3770.90 Safari/537.36'}\n",
    "response = requests.get(url, headers=headers)\n",
    "json_info = json.loads(response.text)\n",
    "json_info['retData']['future'][0]['date'] #날짜\n",
    "json_info['retData']['future'][0]['value'] #미래성장추이 조회수"
   ]
  },
  {
   "cell_type": "markdown",
   "metadata": {},
   "source": [
    "### 비디오 정보"
   ]
  },
  {
   "cell_type": "code",
   "execution_count": 10,
   "metadata": {},
   "outputs": [],
   "source": [
    "channelId='UCVJT18d9wSCnDUdnJ9ycO7Q'\n",
    "url='https://kr.noxinfluencer.com/ws/video/listByChannelId/'+channelId+'?pageSize=200'\n",
    "headers = {'User-Agent': 'Mozilla/5.0 (Windows NT 6.1; Win64; x64) AppleWebKit/537.36 (KHTML, like Gecko) Chrome/75.0.3770.90 Safari/537.36'}\n",
    "response = requests.get(url, headers=headers)\n",
    "json_info = json.loads(response.text)\n",
    "json_info['retDataList'][0]['id'] #비디오 ID(뒤에 붙는 주소)\n",
    "json_info['retDataList'][0]['views'] #동영상 조회수\n",
    "json_info['retDataList'][0]['likes'] #좋아요 수\n",
    "json_info['retDataList'][0]['dislikes'] #싫어요 수\n",
    "json_info['retDataList'][0]['comments'] #댓글 수 \n",
    "json_info['retDataList'][0]['publish_date'] #개시일자\n",
    "json_info['retDataList'][0]['performance_rate'] #구독자 조회 비율\n",
    "json_info['retDataList'][0]['engagement_rate'] #구독자 참여율(구독자 수 대비 구독자들이 댓글이나 좋아요 누른 참여율)"
   ]
  },
  {
   "cell_type": "code",
   "execution_count": null,
   "metadata": {},
   "outputs": [],
   "source": []
  }
 ],
 "metadata": {
  "kernelspec": {
   "display_name": "Python 3",
   "language": "python",
   "name": "python3"
  },
  "language_info": {
   "codemirror_mode": {
    "name": "ipython",
    "version": 3
   },
   "file_extension": ".py",
   "mimetype": "text/x-python",
   "name": "python",
   "nbconvert_exporter": "python",
   "pygments_lexer": "ipython3",
   "version": "3.7.3"
  }
 },
 "nbformat": 4,
 "nbformat_minor": 2
}

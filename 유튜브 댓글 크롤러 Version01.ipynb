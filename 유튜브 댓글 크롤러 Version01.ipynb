{
 "cells": [
  {
   "cell_type": "code",
   "execution_count": 47,
   "metadata": {},
   "outputs": [
    {
     "name": "stderr",
     "output_type": "stream",
     "text": [
      "C:\\ProgramData\\Anaconda3\\lib\\site-packages\\ipykernel_launcher.py:14: DeprecationWarning: use options instead of chrome_options\n",
      "  \n"
     ]
    }
   ],
   "source": [
    "import time\n",
    "from selenium.webdriver import Chrome\n",
    "from contextlib import closing\n",
    "from selenium.webdriver.chrome.options import Options\n",
    "from selenium.webdriver.support.ui import WebDriverWait\n",
    "from selenium.webdriver.common.by import By\n",
    "from selenium.webdriver.support import expected_conditions as EC\n",
    "from selenium.webdriver.common.keys import Keys\n",
    "\n",
    "chrome_options = Options()  \n",
    "chrome_options.add_argument(\"--headless\")\n",
    "comment_like=[[]]\n",
    "\n",
    "with closing(Chrome(chrome_options=chrome_options,executable_path='C:/Users/pc-09/crawler/chromedriver')) as driver:\n",
    "    wait = WebDriverWait(driver,10)\n",
    "    driver.get(\"https://www.youtube.com/watch?v=kJabGuyJwiA\")\n",
    "\n",
    "    for item in range(5): #by increasing the highest range you can get more content\n",
    "        wait.until(EC.visibility_of_element_located((By.TAG_NAME, \"body\"))).send_keys(Keys.END)\n",
    "        time.sleep(3)\n",
    "\n",
    "    for comment,like in zip(wait.until(EC.presence_of_all_elements_located((By.CSS_SELECTOR, \"#comment #content-text\"))),wait.until(EC.presence_of_all_elements_located((By.CSS_SELECTOR, \"#comment #vote-count-middle\")))):\n",
    "        comment_like.append([comment.text,like.text])\n",
    "\n",
    "df = pd.DataFrame(comment_like,columns=['댓글','좋아요 수'])\n",
    "df['좋아요 수']=df['좋아요 수'].replace('',0)\n",
    "df.to_csv('test.csv',encoding='utf-8')"
   ]
  },
  {
   "cell_type": "code",
   "execution_count": 29,
   "metadata": {},
   "outputs": [
    {
     "ename": "NameError",
     "evalue": "name 'url_list' is not defined",
     "output_type": "error",
     "traceback": [
      "\u001b[1;31m---------------------------------------------------------------------------\u001b[0m",
      "\u001b[1;31mNameError\u001b[0m                                 Traceback (most recent call last)",
      "\u001b[1;32m<ipython-input-29-9db924937416>\u001b[0m in \u001b[0;36m<module>\u001b[1;34m\u001b[0m\n\u001b[0;32m     17\u001b[0m \u001b[1;33m\u001b[0m\u001b[0m\n\u001b[0;32m     18\u001b[0m \u001b[0mcomment_like\u001b[0m\u001b[1;33m=\u001b[0m\u001b[1;33m[\u001b[0m\u001b[1;33m[\u001b[0m\u001b[1;33m]\u001b[0m\u001b[1;33m]\u001b[0m\u001b[1;33m\u001b[0m\u001b[1;33m\u001b[0m\u001b[0m\n\u001b[1;32m---> 19\u001b[1;33m \u001b[1;32mfor\u001b[0m \u001b[0murl\u001b[0m \u001b[1;32min\u001b[0m \u001b[0murl_list\u001b[0m\u001b[1;33m:\u001b[0m\u001b[1;33m\u001b[0m\u001b[1;33m\u001b[0m\u001b[0m\n\u001b[0m\u001b[0;32m     20\u001b[0m     \u001b[1;32mwith\u001b[0m \u001b[0mclosing\u001b[0m\u001b[1;33m(\u001b[0m\u001b[0mChrome\u001b[0m\u001b[1;33m(\u001b[0m\u001b[0mchrome_options\u001b[0m\u001b[1;33m=\u001b[0m\u001b[0mchrome_options\u001b[0m\u001b[1;33m,\u001b[0m\u001b[0mexecutable_path\u001b[0m\u001b[1;33m=\u001b[0m\u001b[1;34m'C:/Users/pc-09/crawler/chromedriver'\u001b[0m\u001b[1;33m)\u001b[0m\u001b[1;33m)\u001b[0m \u001b[1;32mas\u001b[0m \u001b[0mdriver\u001b[0m\u001b[1;33m:\u001b[0m\u001b[1;33m\u001b[0m\u001b[1;33m\u001b[0m\u001b[0m\n\u001b[0;32m     21\u001b[0m         \u001b[0mwait\u001b[0m \u001b[1;33m=\u001b[0m \u001b[0mWebDriverWait\u001b[0m\u001b[1;33m(\u001b[0m\u001b[0mdriver\u001b[0m\u001b[1;33m,\u001b[0m\u001b[1;36m10\u001b[0m\u001b[1;33m)\u001b[0m\u001b[1;33m\u001b[0m\u001b[1;33m\u001b[0m\u001b[0m\n",
      "\u001b[1;31mNameError\u001b[0m: name 'url_list' is not defined"
     ]
    }
   ],
   "source": [
    "import time\n",
    "from selenium.webdriver import Chrome\n",
    "from contextlib import closing\n",
    "from selenium.webdriver.chrome.options import Options\n",
    "from selenium.webdriver.support.ui import WebDriverWait\n",
    "from selenium.webdriver.common.by import By\n",
    "from selenium.webdriver.support import expected_conditions as EC\n",
    "from selenium.webdriver.common.keys import Keys\n",
    "import pandas as pd\n",
    "\n",
    "\n",
    "chrome_options = Options()  \n",
    "chrome_options.add_argument(\"--headless\")\n",
    "url_list_file = pd.read_csv('url_list.csv')\n",
    "url_list = url_list_file['url']\n",
    "\n",
    "\n",
    "comment_like=[[]]\n",
    "for url in url_list:\n",
    "    with closing(Chrome(chrome_options=chrome_options,executable_path='C:/Users/pc-09/crawler/chromedriver')) as driver:\n",
    "        wait = WebDriverWait(driver,10)\n",
    "        driver.get(url)\n",
    "\n",
    "        for item in range(3): #by increasing the highest range you can get more content\n",
    "            wait.until(EC.visibility_of_element_located((By.TAG_NAME, \"body\"))).send_keys(Keys.END)\n",
    "            time.sleep(3)\n",
    "\n",
    "        for comment,like in zip(wait.until(EC.presence_of_all_elements_located((By.CSS_SELECTOR, \"#comment #content-text\"))),wait.until(EC.presence_of_all_elements_located((By.CSS_SELECTOR, \"#comment #vote-count-middle\")))):\n",
    "            comment_like.append([comment.text,like.text])\n",
    "\n",
    "df = pd.DataFrame(comment_like,columns=['댓글','좋아요 수'])\n",
    "df['좋아요 수']=df['좋아요 수'].replace('',0)\n",
    "df.to_csv('test.csv',encoding='utf-8')"
   ]
  },
  {
   "cell_type": "code",
   "execution_count": null,
   "metadata": {},
   "outputs": [],
   "source": []
  },
  {
   "cell_type": "code",
   "execution_count": null,
   "metadata": {},
   "outputs": [],
   "source": []
  },
  {
   "cell_type": "code",
   "execution_count": null,
   "metadata": {},
   "outputs": [],
   "source": []
  }
 ],
 "metadata": {
  "kernelspec": {
   "display_name": "Python 3",
   "language": "python",
   "name": "python3"
  },
  "language_info": {
   "codemirror_mode": {
    "name": "ipython",
    "version": 3
   },
   "file_extension": ".py",
   "mimetype": "text/x-python",
   "name": "python",
   "nbconvert_exporter": "python",
   "pygments_lexer": "ipython3",
   "version": "3.7.3"
  }
 },
 "nbformat": 4,
 "nbformat_minor": 2
}
